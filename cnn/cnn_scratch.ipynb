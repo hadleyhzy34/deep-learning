{
 "metadata": {
  "language_info": {
   "codemirror_mode": {
    "name": "ipython",
    "version": 3
   },
   "file_extension": ".py",
   "mimetype": "text/x-python",
   "name": "python",
   "nbconvert_exporter": "python",
   "pygments_lexer": "ipython3",
   "version": "3.8.1-final"
  },
  "orig_nbformat": 2,
  "kernelspec": {
   "name": "python3",
   "display_name": "Python 3"
  }
 },
 "nbformat": 4,
 "nbformat_minor": 2,
 "cells": [
  {
   "source": [
    "import numpy as np\n",
    "import random"
   ],
   "cell_type": "code",
   "metadata": {},
   "execution_count": 1,
   "outputs": []
  },
  {
   "source": [
    "class Conv3x3:\n",
    "    #a convolutin layer using 3x3 filters\n",
    "\n",
    "    def __init__(self, num_filters):\n",
    "        self.num_filters = num_filters\n",
    "        #filter initialization\n",
    "        self.filters = np.random.randn(num_filters,3,3) / 9\n",
    "    \n",
    "    '''\n",
    "    \n",
    "    '''\n",
    "    def iterate_(self, image):\n",
    "        row, col = image.shape\n",
    "        #conv layers and output layer initialization\n",
    "        self.layer = np.zeros(())\n",
    "\n",
    "        for i in range(row):\n",
    "            for j in range(col):\n",
    "                if i <= row-2 and j <= col-2: \n",
    "                    roi = image[i:(i+3),j:(j+3)]\n",
    "                    yield roi, i, j\n",
    "    \n",
    "    def forward(self, image):\n",
    "        row, col = image.shape\n",
    "        #conv layers and output layer initialization\n",
    "        self.layer = np.zeros((self.num_filters, row-2, col-2))\n",
    "\n",
    "        for \n",
    "        \n"
   ],
   "cell_type": "markdown",
   "metadata": {}
  },
  {
   "cell_type": "code",
   "execution_count": 4,
   "metadata": {},
   "outputs": [
    {
     "output_type": "execute_result",
     "data": {
      "text/plain": [
       "array([[[-0.05029708,  0.14375138, -0.11783392],\n",
       "        [ 0.08655909,  0.00107742, -0.10752458],\n",
       "        [-0.02741327, -0.05431828,  0.07293011]],\n",
       "\n",
       "       [[ 0.04597768,  0.14104938,  0.04242207],\n",
       "        [-0.0835017 , -0.07000422, -0.01668593],\n",
       "        [ 0.24044777,  0.068398  ,  0.19535085]]])"
      ]
     },
     "metadata": {},
     "execution_count": 4
    }
   ],
   "source": [
    "layer1 = Conv3x3(2)\n",
    "layer1.filters"
   ]
  },
  {
   "cell_type": "code",
   "execution_count": 31,
   "metadata": {},
   "outputs": [],
   "source": [
    "class Conv3x3:\n",
    "  def __init__(self, num_filters):\n",
    "    self.num_filters = num_filters\n",
    "\n",
    "    # filters is a 3d array with dimensions (num_filters, 3, 3)\n",
    "    # We divide by 9 to reduce the variance of our initial values\n",
    "    self.filters = np.random.randn(num_filters, 3, 3) / 9\n",
    "\n",
    "  def iterate_regions(self, image):\n",
    "    '''\n",
    "    Generates all possible 3x3 image regions using valid padding.\n",
    "    - image is a 2d numpy array\n",
    "    '''\n",
    "    h, w = image.shape\n",
    "\n",
    "    for i in range(h - 2):\n",
    "      for j in range(w - 2):\n",
    "        im_region = image[i:(i + 3), j:(j + 3)]\n",
    "        yield im_region, i, j\n",
    "\n",
    "  def forward(self, input):\n",
    "    '''\n",
    "    Performs a forward pass of the conv layer using the given input.\n",
    "    Returns a 3d numpy array with dimensions (h, w, num_filters).\n",
    "    - input is a 2d numpy array\n",
    "    '''\n",
    "    h, w = input.shape\n",
    "    output = np.zeros((h - 2, w - 2, self.num_filters))\n",
    "\n",
    "    for im_region, i, j in self.iterate_regions(input):\n",
    "        # print(im_region * self.filters)\n",
    "        # if i == 1 and j == 1:\n",
    "            # print(im_region)\n",
    "            # print(self.filters)\n",
    "            # print(im_region*self.filters)\n",
    "        output[i, j] = np.sum(im_region * self.filters, axis=(1, 2))\n",
    "        # print(output[i,j])\n",
    "\n",
    "    return output"
   ]
  },
  {
   "cell_type": "code",
   "execution_count": 23,
   "metadata": {},
   "outputs": [],
   "source": [
    "from tensorflow.keras import datasets, layers, models\n",
    "import keras\n",
    "import tensorflow as tf"
   ]
  },
  {
   "cell_type": "code",
   "execution_count": 24,
   "metadata": {},
   "outputs": [],
   "source": [
    "((train_data, train_labels),\n",
    " (test_data, test_labels)) = tf.keras.datasets.fashion_mnist.load_data()"
   ]
  },
  {
   "cell_type": "code",
   "execution_count": 32,
   "metadata": {
    "tags": []
   },
   "outputs": [
    {
     "output_type": "stream",
     "name": "stdout",
     "text": [
      "[[[-0.09115222 -0.08159382  0.01271225]\n  [ 0.1046643  -0.04405305 -0.04051145]\n  [ 0.03407765 -0.08261454 -0.11673225]]\n\n [[ 0.22740578 -0.0221493  -0.04868169]\n  [ 0.04169566  0.09517268  0.08993991]\n  [ 0.06939456  0.06513999 -0.0624412 ]]\n\n [[-0.00694448 -0.06249955  0.06541286]\n  [ 0.12945537 -0.04102092  0.03470676]\n  [-0.07053104  0.09874111 -0.0642567 ]]\n\n [[ 0.07371908  0.05209876 -0.1223342 ]\n  [ 0.05579584 -0.15541291  0.00519382]\n  [-0.04482362  0.0463572  -0.20468027]]\n\n [[-0.04004651 -0.01277632  0.07887955]\n  [ 0.08284219 -0.02909077  0.00845005]\n  [-0.06389636  0.0347158  -0.03648007]]\n\n [[-0.13550921  0.0501109   0.01194215]\n  [ 0.1709952   0.00331749 -0.20508699]\n  [-0.13600515 -0.32061486  0.17775934]]\n\n [[-0.18098278  0.01637528  0.04754196]\n  [ 0.10250239  0.07659441  0.13520239]\n  [-0.08029963  0.09910694  0.14444742]]\n\n [[ 0.11386419  0.06516792 -0.14464417]\n  [ 0.17187195  0.0847667  -0.2228127 ]\n  [-0.15062255 -0.04257993  0.09375307]]]\n(26, 26, 8)\n"
     ]
    }
   ],
   "source": [
    "conv = Conv3x3(8)\n",
    "output = conv.forward(train_data[0])\n",
    "print(conv.filters)\n",
    "print(output.shape)\n",
    "# print(output[:,:,0])"
   ]
  },
  {
   "cell_type": "code",
   "execution_count": null,
   "metadata": {},
   "outputs": [],
   "source": []
  }
 ]
}