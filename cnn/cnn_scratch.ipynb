{
 "metadata": {
  "language_info": {
   "codemirror_mode": {
    "name": "ipython",
    "version": 3
   },
   "file_extension": ".py",
   "mimetype": "text/x-python",
   "name": "python",
   "nbconvert_exporter": "python",
   "pygments_lexer": "ipython3",
   "version": "3.8.1-final"
  },
  "orig_nbformat": 2,
  "kernelspec": {
   "name": "python3",
   "display_name": "Python 3"
  }
 },
 "nbformat": 4,
 "nbformat_minor": 2,
 "cells": [
  {
   "source": [
    "import numpy as np\n",
    "import random"
   ],
   "cell_type": "code",
   "metadata": {},
   "execution_count": 1,
   "outputs": []
  },
  {
   "source": [
    "class Conv3x3:\n",
    "    #a convolutin layer using 3x3 filters\n",
    "\n",
    "    def __init__(self, num_filters):\n",
    "        self.num_filters = num_filters\n",
    "        #filter initialization\n",
    "        self.filters = np.random.randn(num_filters,3,3) / 9\n",
    "    \n",
    "    '''\n",
    "    \n",
    "    '''\n",
    "    def iterate_(self, image):\n",
    "        row, col = image.shape\n",
    "        #conv layers and output layer initialization\n",
    "        self.layer = np.zeros(())\n",
    "\n",
    "        for i in range(row):\n",
    "            for j in range(col):\n",
    "                if i <= row-2 and j <= col-2: \n",
    "                    roi = image[i:(i+3),j:(j+3)]\n",
    "                    yield roi, i, j\n",
    "    \n",
    "    def forward(self, image):\n",
    "        row, col = image.shape\n",
    "        #conv layers and output layer initialization\n",
    "        self.layer = np.zeros((self.num_filters, row-2, col-2))\n",
    "\n",
    "        for \n",
    "        \n"
   ],
   "cell_type": "markdown",
   "metadata": {}
  },
  {
   "cell_type": "code",
   "execution_count": 3,
   "metadata": {},
   "outputs": [],
   "source": [
    "class Conv3x3:\n",
    "  def __init__(self, num_filters):\n",
    "    self.num_filters = num_filters\n",
    "\n",
    "    # filters is a 3d array with dimensions (num_filters, 3, 3)\n",
    "    # We divide by 9 to reduce the variance of our initial values\n",
    "    self.filters = np.random.randn(num_filters, 3, 3) / 9\n",
    "\n",
    "  def iterate_regions(self, image):\n",
    "    '''\n",
    "    Generates all possible 3x3 image regions using valid padding.\n",
    "    - image is a 2d numpy array\n",
    "    '''\n",
    "    h, w = image.shape\n",
    "\n",
    "    for i in range(h - 2):\n",
    "      for j in range(w - 2):\n",
    "        im_region = image[i:(i + 3), j:(j + 3)]\n",
    "        yield im_region, i, j\n",
    "\n",
    "  def forward(self, input):\n",
    "    '''\n",
    "    Performs a forward pass of the conv layer using the given input.\n",
    "    Returns a 3d numpy array with dimensions (h, w, num_filters).\n",
    "    - input is a 2d numpy array\n",
    "    '''\n",
    "    h, w = input.shape\n",
    "    output = np.zeros((h - 2, w - 2, self.num_filters))\n",
    "\n",
    "    for im_region, i, j in self.iterate_regions(input):\n",
    "        # print(im_region * self.filters)\n",
    "        # if i == 1 and j == 1:\n",
    "            # print(im_region)\n",
    "            # print(self.filters)\n",
    "            # print(im_region*self.filters)\n",
    "        output[i, j] = np.sum(im_region * self.filters, axis=(1, 2))\n",
    "        # print(output[i,j])\n",
    "\n",
    "    return output"
   ]
  },
  {
   "cell_type": "code",
   "execution_count": 4,
   "metadata": {},
   "outputs": [],
   "source": [
    "from tensorflow.keras import datasets, layers, models\n",
    "import keras\n",
    "import tensorflow as tf"
   ]
  },
  {
   "cell_type": "code",
   "execution_count": 5,
   "metadata": {},
   "outputs": [],
   "source": [
    "((train_data, train_labels),\n",
    " (test_data, test_labels)) = tf.keras.datasets.fashion_mnist.load_data()"
   ]
  },
  {
   "cell_type": "code",
   "execution_count": 11,
   "metadata": {
    "tags": []
   },
   "outputs": [
    {
     "output_type": "stream",
     "name": "stdout",
     "text": [
      "[[[ 0.11365985 -0.00758996  0.12630547]\n  [ 0.12877869  0.15931339 -0.05127237]\n  [ 0.08223241  0.05012807  0.05971327]]\n\n [[ 0.02996919 -0.25995347  0.08653329]\n  [-0.06105064  0.0010477  -0.07142494]\n  [ 0.12119641 -0.12035447  0.03593307]]\n\n [[ 0.07722197 -0.06215154  0.12571277]\n  [-0.1407588   0.10030161 -0.02208413]\n  [ 0.03705418 -0.0637095  -0.03065436]]\n\n [[ 0.0342773  -0.09168923 -0.02226484]\n  [-0.2025426   0.15166165 -0.03508157]\n  [ 0.12703071  0.11189797  0.0228812 ]]\n\n [[-0.0082654  -0.00712442 -0.03926309]\n  [-0.02550814  0.1101267   0.30616133]\n  [-0.10440372  0.00777137 -0.15876623]]\n\n [[ 0.03649871  0.01974442 -0.0905324 ]\n  [-0.14778947  0.16349882  0.10221842]\n  [ 0.10642636 -0.10048099  0.08522247]]\n\n [[-0.08614458  0.14926506 -0.03439336]\n  [ 0.12087436 -0.05534786  0.26505823]\n  [-0.07997474  0.00077016  0.11320699]]\n\n [[-0.06412859 -0.00306926  0.18540478]\n  [-0.09565002  0.03972184 -0.07389816]\n  [ 0.01753752 -0.03541562  0.13278329]]]\n(26, 26, 8)\n"
     ]
    }
   ],
   "source": [
    "conv = Conv3x3(8)\n",
    "output = conv.forward(train_data[0])\n",
    "print(conv.filters)\n",
    "print(output.shape)\n",
    "# print(output[:,:,0])"
   ]
  },
  {
   "cell_type": "code",
   "execution_count": 18,
   "metadata": {},
   "outputs": [],
   "source": [
    "class MaxPool2:\n",
    "    def iterate_regions(self,image):\n",
    "       h,w,_ = image.shape\n",
    "       new_h = h//2\n",
    "       new_w = w//2\n",
    "\n",
    "       for i in range(0,w,2):\n",
    "           for j in range(0,h,2):\n",
    "               im_region = image[i:(i+2),j:(j+2)]\n",
    "               yield im_region, i//2 ,j//2\n",
    "\n",
    "    def forward(self, input):\n",
    "        h,w,num_filters = input.shape\n",
    "        output = np.zeros((h//2,w//2,num_filters))\n",
    "\n",
    "        for im_region, i, j in self.iterate_regions(input):\n",
    "            output[i,j] = np.amax(im_region, axis=(0,1))\n",
    "\n",
    "        return output "
   ]
  },
  {
   "cell_type": "code",
   "execution_count": 19,
   "metadata": {},
   "outputs": [
    {
     "output_type": "stream",
     "name": "stdout",
     "text": [
      "(13, 13, 8)\n"
     ]
    }
   ],
   "source": [
    "pool = MaxPool2()\n",
    "output = pool.forward(output)\n",
    "print(output.shape)"
   ]
  },
  {
   "cell_type": "code",
   "execution_count": 27,
   "metadata": {},
   "outputs": [],
   "source": [
    "class Softmax:\n",
    "  # A standard fully-connected layer with softmax activation.\n",
    "\n",
    "  def __init__(self, input_len, nodes):\n",
    "    # We divide by input_len to reduce the variance of our initial values\n",
    "    self.weights = np.random.randn(input_len, nodes) / input_len\n",
    "    self.biases = np.zeros(nodes)\n",
    "\n",
    "  def forward(self, input):\n",
    "    '''\n",
    "    Performs a forward pass of the softmax layer using the given input.\n",
    "    Returns a 1d numpy array containing the respective probability values.\n",
    "    - input can be any array with any dimensions.\n",
    "    '''\n",
    "    self.last_input_shape = input.shape\n",
    "\n",
    "    input = input.flatten()\n",
    "    self.last_input = input\n",
    "\n",
    "    input_len, nodes = self.weights.shape\n",
    "\n",
    "    totals = np.dot(input, self.weights) + self.biases\n",
    "    self.last_totals = totals\n",
    "    \n",
    "    exp = np.exp(totals)\n",
    "    return exp / np.sum(exp, axis=0)"
   ]
  },
  {
   "cell_type": "code",
   "execution_count": 24,
   "metadata": {},
   "outputs": [],
   "source": [
    "import mnist\n",
    "test_images = mnist.test_images()[:1000]\n",
    "test_labels = mnist.test_labels()[:1000]"
   ]
  },
  {
   "cell_type": "code",
   "execution_count": 25,
   "metadata": {},
   "outputs": [],
   "source": [
    "conv = Conv3x3(8)                  # 28x28x1 -> 26x26x8\n",
    "pool = MaxPool2()                  # 26x26x8 -> 13x13x8\n",
    "softmax = Softmax(13 * 13 * 8, 10) # 13x13x8 -> 10"
   ]
  },
  {
   "cell_type": "code",
   "execution_count": 26,
   "metadata": {},
   "outputs": [
    {
     "output_type": "stream",
     "name": "stdout",
     "text": [
      "MNIST CNN initialized!\n",
      "[Step 100] Past 100 steps: Average Loss 2.303 | Accuracy: 3%\n",
      "[Step 200] Past 100 steps: Average Loss 2.303 | Accuracy: 8%\n",
      "[Step 300] Past 100 steps: Average Loss 2.304 | Accuracy: 4%\n",
      "[Step 400] Past 100 steps: Average Loss 2.303 | Accuracy: 7%\n",
      "[Step 500] Past 100 steps: Average Loss 2.303 | Accuracy: 4%\n",
      "[Step 600] Past 100 steps: Average Loss 2.303 | Accuracy: 6%\n",
      "[Step 700] Past 100 steps: Average Loss 2.303 | Accuracy: 5%\n",
      "[Step 800] Past 100 steps: Average Loss 2.303 | Accuracy: 7%\n",
      "[Step 900] Past 100 steps: Average Loss 2.303 | Accuracy: 4%\n",
      "[Step 1000] Past 100 steps: Average Loss 2.304 | Accuracy: 5%\n"
     ]
    }
   ],
   "source": [
    "def forward(image, label):\n",
    "  '''\n",
    "  Completes a forward pass of the CNN and calculates the accuracy and\n",
    "  cross-entropy loss.\n",
    "  - image is a 2d numpy array\n",
    "  - label is a digit\n",
    "  '''\n",
    "  # We transform the image from [0, 255] to [-0.5, 0.5] to make it easier\n",
    "  # to work with. This is standard practice.\n",
    "  out = conv.forward((image / 255) - 0.5)\n",
    "  out = pool.forward(out)\n",
    "  out = softmax.forward(out)\n",
    "\n",
    "  # Calculate cross-entropy loss and accuracy. np.log() is the natural log.\n",
    "  loss = -np.log(out[label])\n",
    "  acc = 1 if np.argmax(out) == label else 0\n",
    "\n",
    "  return out, loss, acc\n",
    "\n",
    "print('MNIST CNN initialized!')\n",
    "\n",
    "loss = 0\n",
    "num_correct = 0\n",
    "for i, (im, label) in enumerate(zip(test_images, test_labels)):\n",
    "  # Do a forward pass.\n",
    "  _, l, acc = forward(im, label)\n",
    "  loss += l\n",
    "  num_correct += acc\n",
    "\n",
    "  # Print stats every 100 steps.\n",
    "  if i % 100 == 99:\n",
    "    print(\n",
    "      '[Step %d] Past 100 steps: Average Loss %.3f | Accuracy: %d%%' %\n",
    "      (i + 1, loss / 100, num_correct)\n",
    "    )\n",
    "    loss = 0\n",
    "    num_correct = 0"
   ]
  },
  {
   "cell_type": "code",
   "execution_count": null,
   "metadata": {},
   "outputs": [],
   "source": []
  }
 ]
}