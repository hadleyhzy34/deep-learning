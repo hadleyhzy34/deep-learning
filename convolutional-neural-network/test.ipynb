{
 "metadata": {
  "language_info": {
   "codemirror_mode": {
    "name": "ipython",
    "version": 3
   },
   "file_extension": ".py",
   "mimetype": "text/x-python",
   "name": "python",
   "nbconvert_exporter": "python",
   "pygments_lexer": "ipython3",
   "version": "3.8.1-final"
  },
  "orig_nbformat": 2,
  "kernelspec": {
   "name": "python3",
   "display_name": "Python 3"
  }
 },
 "nbformat": 4,
 "nbformat_minor": 2,
 "cells": [
  {
   "cell_type": "code",
   "execution_count": 1,
   "metadata": {},
   "outputs": [],
   "source": [
    "from pathlib import Path\n",
    "import cv2"
   ]
  },
  {
   "cell_type": "code",
   "execution_count": 2,
   "metadata": {
    "tags": []
   },
   "outputs": [],
   "source": [
    "path_str = '/Users/hadley/Pictures/'\n",
    "\n",
    "for path in Path(path_str).rglob('*.jpg'):\n",
    "    # print('%s'%path)\n",
    "    _dir = '{}'.format(path)\n",
    "    img = cv2.imread(_dir)\n",
    "    if img.shape[0] > img.shape[1]:\n",
    "        img = cv2.rotate(img, cv2.ROTATE_90_COUNTERCLOCKWISE)\n",
    "        # cv2.imshow('test',img)\n",
    "        # cv2.waitKey(0)\n",
    "        cv2.imwrite(_dir, img)\n",
    "        print(_dir)"
   ]
  }
 ]
}