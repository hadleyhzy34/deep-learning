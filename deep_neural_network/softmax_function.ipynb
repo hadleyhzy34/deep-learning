{
 "metadata": {
  "language_info": {
   "codemirror_mode": {
    "name": "ipython",
    "version": 3
   },
   "file_extension": ".py",
   "mimetype": "text/x-python",
   "name": "python",
   "nbconvert_exporter": "python",
   "pygments_lexer": "ipython3",
   "version": "3.8.1-final"
  },
  "orig_nbformat": 2,
  "kernelspec": {
   "name": "python3",
   "display_name": "Python 3"
  }
 },
 "nbformat": 4,
 "nbformat_minor": 2,
 "cells": [
  {
   "source": [
    "## Softmax Function"
   ],
   "cell_type": "markdown",
   "metadata": {}
  },
  {
   "source": [
    "1. Raise e(the mathematical constant) to the power of each those numbers\n",
    "2. Sum up all the exponentails. This result is the denominator.\n",
    "3. Use each number's exponential as its numerator.\n",
    "4. calculate numerator / denominator"
   ],
   "cell_type": "markdown",
   "metadata": {}
  },
  {
   "cell_type": "code",
   "execution_count": 22,
   "metadata": {},
   "outputs": [
    {
     "output_type": "stream",
     "name": "stdout",
     "text": [
      "[0.002 0.006 0.118 0.874]\n"
     ]
    }
   ],
   "source": [
    "import numpy as np\n",
    "\n",
    "def softmax(xs):\n",
    "    return np.exp(xs)/sum(np.exp(xs))\n",
    "\n",
    "xs = np.array([-1,0,3,5])\n",
    "print(softmax(xs))"
   ]
  },
  {
   "cell_type": "code",
   "execution_count": 28,
   "metadata": {},
   "outputs": [
    {
     "output_type": "stream",
     "name": "stdout",
     "text": [
      "[ 0.00011754  0.04742030  0.95246216]\n[ 0.00012212  0.00033195  0.00090233  0.00245278  0.00666736  0.98952347]\n"
     ]
    }
   ],
   "source": [
    "test = np.array([-4,2,5])\n",
    "print(softmax(test))\n",
    "test1 = np.array([-5,-4,-3,-2,-1,4])\n",
    "np.set_printoptions(formatter={'float': '{: 0.8f}'.format})\n",
    "print(softmax(test1))"
   ]
  }
 ]
}